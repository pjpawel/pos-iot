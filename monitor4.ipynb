{
 "cells": [
  {
   "cell_type": "code",
   "execution_count": 8,
   "metadata": {},
   "outputs": [
    {
     "data": {
      "text/plain": [
       "True"
      ]
     },
     "execution_count": 8,
     "metadata": {},
     "output_type": "execute_result"
    }
   ],
   "source": [
    "import datetime\n",
    "import os\n",
    "from uuid import UUID\n",
    "from pprint import pprint\n",
    "\n",
    "import pandas as pd\n",
    "import matplotlib.pyplot as plt\n",
    "from dotenv import load_dotenv\n",
    "\n",
    "from pot.network.node import SelfNodeInfo\n",
    "from pot.network.storage import BlocksStorage, NodeStorage, TransactionStorage, NodeTrustStorage, ValidatorStorage, \\\n",
    "    TransactionVerifiedStorage\n",
    "from pot.network.manager import NodeTrust\n",
    "\n",
    "storage_path = os.path.realpath(os.path.join(os.path.dirname('.'), '..', 'storage'))\n",
    "result_path = os.path.realpath(os.path.join(os.path.dirname('.'), '..', 'monitor', 'result'))\n",
    "\n",
    "firsts_records = 100\n",
    "\n",
    "load_dotenv()"
   ]
  },
  {
   "cell_type": "code",
   "execution_count": 9,
   "metadata": {},
   "outputs": [],
   "source": [
    "def get_self_node_info(path: str) -> UUID:\n",
    "    old_value = os.getenv('STORAGE_DIR')\n",
    "    os.environ[\"STORAGE_DIR\"] = path\n",
    "    self_node = SelfNodeInfo(True)\n",
    "    os.environ[\"STORAGE_DIR\"] = old_value\n",
    "    return self_node.identifier\n",
    "\n",
    "\n",
    "def get_info_from_blockchain(path: str) -> dict:\n",
    "    storage = BlocksStorage(path)\n",
    "    blocks = storage.load()\n",
    "    return {\n",
    "        \"len\": len(blocks),\n",
    "        \"transaction_len\": sum([len(block.transactions) for block in blocks])\n",
    "    }\n",
    "\n",
    "\n",
    "def get_info_from_nodes(path: str) -> dict:\n",
    "    storage = NodeStorage(path)\n",
    "    nodes = storage.load()\n",
    "    trust = NodeTrust.__new__(NodeTrust)\n",
    "    trust._storage = NodeTrustStorage(path)\n",
    "    # trust._storage.load()\n",
    "    # print(f\"Trust from {path}: {trust._storage.load()}\")\n",
    "    # old_value = os.getenv('STORAGE_DIR')\n",
    "    # os.putenv('STORAGE_DIR', path)\n",
    "    # self_node = SelfNodeInfo()\n",
    "    # os.putenv('STORAGE_DIR', old_value)\n",
    "    return {\n",
    "        \"len\": len(nodes),\n",
    "        #\"trust\": trust.get_node_trust(self_node.get_node())\n",
    "        \"trust\": trust._storage.load()\n",
    "    }\n",
    "\n",
    "\n",
    "def get_info_from_validators(path: str) -> dict:\n",
    "    storage = ValidatorStorage(path)\n",
    "    validators = storage.load()\n",
    "    return {\n",
    "        \"len\": len(validators),\n",
    "        \"validators\": ','.join([v.hex for v in validators])\n",
    "    }\n",
    "\n",
    "\n",
    "def get_info_from_transactions_to_verify(path: str) -> dict:\n",
    "    storage = TransactionStorage(path)\n",
    "    try:\n",
    "        txs = storage.load()\n",
    "    except Exception as e:\n",
    "        print(f\"Error while processing path {path}: {e}\")\n",
    "        txs = []\n",
    "    return {\n",
    "        \"len\": len(txs)\n",
    "    }\n",
    "\n",
    "\n",
    "def get_info_from_transactions_verified(path: str) -> dict:\n",
    "    storage = TransactionVerifiedStorage(path)\n",
    "    txs = storage.load()\n",
    "    return {\n",
    "        \"len\": len(txs)\n",
    "    }"
   ]
  },
  {
   "cell_type": "code",
   "execution_count": 10,
   "metadata": {},
   "outputs": [],
   "source": [
    "cols_dict = {\n",
    "    'time': 'Time',\n",
    "    'number_of_nodes': 'Number of nodes',\n",
    "    'number_of_validators': 'Number of validators',\n",
    "    # 'node_trust': 'Node trust',\n",
    "    'number_of_blocks': 'Number of blocks',\n",
    "    'number_of_transaction_to_verify': 'Number of transactions to verify',\n",
    "    'number_of_verified_transactions': 'Number of verified transactions',\n",
    "    'validators': 'Validators'\n",
    "}\n",
    "\n",
    "cols = list(cols_dict.keys())\n",
    "\n",
    "df_trust = pd.DataFrame(columns=[\"time\", \"sourceNode\", \"node\", \"trust\"])\n",
    "df_trust.set_index([\"time\", \"sourceNode\", \"node\"], inplace=True)\n",
    "# df_trust.sort_index()"
   ]
  },
  {
   "cell_type": "code",
   "execution_count": 11,
   "metadata": {},
   "outputs": [
    {
     "name": "stdout",
     "output_type": "stream",
     "text": [
      "Processing node e5ef6f3d6292\n",
      "Found 1859 dirs in node e5ef6f3d6292\n",
      "ab086f26851a46538805ad83d144fad6\n",
      "Processing node 0a479aec6c60\n",
      "Found 1880 dirs in node 0a479aec6c60\n",
      "9b55ff3ca9b540778da0ff576f69cc10\n",
      "Processing node b2af3cbba21d\n",
      "Found 1889 dirs in node b2af3cbba21d\n",
      "6c0d6727453640048d0ad5a977ac4ac6\n",
      "Processing node 467bb1befdd6\n",
      "Found 1863 dirs in node 467bb1befdd6\n",
      "285b9ed67a214329af06e6a9ee5d28b2\n",
      "Processing node cc2afc66a825\n",
      "Found 1852 dirs in node cc2afc66a825\n",
      "b8d9a3b6c6da4e2daa907687cfe4c978\n",
      "Processing node 1af44b40863c\n",
      "Found 1875 dirs in node 1af44b40863c\n",
      "1592bdbb409f46d6ad0c1aa8e51b0360\n",
      "Processing node 435c733f0ed0\n",
      "Found 1868 dirs in node 435c733f0ed0\n",
      "4d5cf72eb0a84162a85c26a5d0051079\n"
     ]
    }
   ],
   "source": [
    "first_time = None\n",
    "dfs = {}\n",
    "\n",
    "nodes_mapping = {}\n",
    "\n",
    "for node in os.listdir(storage_path):\n",
    "    # list all nodes in dir\n",
    "\n",
    "    if node == '.gitignore':\n",
    "        continue\n",
    "\n",
    "    print(f\"Processing node {node}\")\n",
    "\n",
    "    trust_data = []\n",
    "\n",
    "    df = pd.DataFrame(columns=cols)\n",
    "    df.set_index('time', inplace=True)\n",
    "\n",
    "    dirs = [int(time_dir) for time_dir in os.listdir(os.path.join(storage_path, node, 'dump'))]\n",
    "    dirs.sort()\n",
    "    print(f\"Found {len(dirs)} dirs in node {node}\")\n",
    "\n",
    "    record_i = 0\n",
    "    for time in dirs:\n",
    "        # list all time in dir\n",
    "        if not first_time:\n",
    "            first_time = time\n",
    "\n",
    "        if firsts_records is not None and firsts_records < record_i:\n",
    "            break\n",
    "\n",
    "        storage_dir = os.path.join(storage_path, node, 'dump', str(time))\n",
    "        # print(f\"Processing dir {storage_dir}\")\n",
    "\n",
    "        if node not in nodes_mapping.keys():\n",
    "            self_node_id = get_self_node_info(storage_dir)\n",
    "            nodes_mapping[node] = self_node_id.hex\n",
    "            print(self_node_id.hex)\n",
    "\n",
    "        try:\n",
    "            #self_node_id = get_self_node_info(storage_dir)\n",
    "            blocks_info = get_info_from_blockchain(storage_dir)\n",
    "            nodes_info = get_info_from_nodes(storage_dir)\n",
    "            validators_info = get_info_from_validators(storage_dir)\n",
    "            txs_to_ver_info = get_info_from_transactions_to_verify(storage_dir)\n",
    "            txs_ver_info = get_info_from_transactions_verified(storage_dir)\n",
    "        except Exception as e:\n",
    "            print(f\"Exception {e} while loading from node: {node} from time {time}\")\n",
    "            raise e\n",
    "\n",
    "        actual_time = time - first_time\n",
    "        df.loc[actual_time] = [\n",
    "            nodes_info['len'],\n",
    "            validators_info['len'],\n",
    "            # nodes_info[\"trust\"],\n",
    "            blocks_info['len'],\n",
    "            txs_to_ver_info['len'],\n",
    "            txs_ver_info['len'],\n",
    "            validators_info[\"validators\"]\n",
    "        ]\n",
    "        for node_id, trust in nodes_info[\"trust\"].items():\n",
    "            trust_data.append({\n",
    "                \"time\": actual_time,\n",
    "                \"sourceNode\": node,\n",
    "                \"node\": node_id.hex,\n",
    "                \"trust\": trust\n",
    "            })\n",
    "            # df_trust.loc[(actual_time, node, node_id.hex), :] = trust\n",
    "        record_i += 1\n",
    "\n",
    "    # check if all df has step by step info\n",
    "    #df.to_excel(os.path.join(result_path, f\"result-{node}.xlsx\"))\n",
    "    dfs[node] = df\n",
    "\n",
    "    df_trust_node = pd.DataFrame(trust_data, columns=[\"time\", \"sourceNode\", \"node\", \"trust\"])\n",
    "    df_trust_node.set_index([\"time\", \"sourceNode\", \"node\"], inplace=True)\n",
    "    #df_trust_node.to_excel(os.path.join(result_path, f\"result-trust-{node}.xlsx\"))\n",
    "\n",
    "    df_trust = pd.concat([df_trust, df_trust_node])\n"
   ]
  },
  {
   "cell_type": "code",
   "execution_count": 12,
   "metadata": {},
   "outputs": [],
   "source": [
    "for node, df in dfs.items():\n",
    "    df.drop(columns=['validators'], inplace=True)"
   ]
  },
  {
   "cell_type": "code",
   "execution_count": 13,
   "metadata": {},
   "outputs": [
    {
     "name": "stdout",
     "output_type": "stream",
     "text": [
      "Nodes map\n",
      "{'0a479aec6c60': '9b55ff3ca9b540778da0ff576f69cc10',\n",
      " '1af44b40863c': '1592bdbb409f46d6ad0c1aa8e51b0360',\n",
      " '435c733f0ed0': '4d5cf72eb0a84162a85c26a5d0051079',\n",
      " '467bb1befdd6': '285b9ed67a214329af06e6a9ee5d28b2',\n",
      " 'b2af3cbba21d': '6c0d6727453640048d0ad5a977ac4ac6',\n",
      " 'cc2afc66a825': 'b8d9a3b6c6da4e2daa907687cfe4c978',\n",
      " 'e5ef6f3d6292': 'ab086f26851a46538805ad83d144fad6'}\n",
      "Nodes\n",
      "array(['9b55ff3ca9b540778da0ff576f69cc10',\n",
      "       '1592bdbb409f46d6ad0c1aa8e51b0360',\n",
      "       '4d5cf72eb0a84162a85c26a5d0051079',\n",
      "       '285b9ed67a214329af06e6a9ee5d28b2',\n",
      "       'ab086f26851a46538805ad83d144fad6',\n",
      "       'b8d9a3b6c6da4e2daa907687cfe4c978',\n",
      "       '6c0d6727453640048d0ad5a977ac4ac6'], dtype=object)\n"
     ]
    }
   ],
   "source": [
    "import itertools\n",
    "nodes_ids = df_trust.reset_index()[\"node\"].unique()\n",
    "\n",
    "print(\"Nodes map\")\n",
    "pprint(nodes_mapping)\n",
    "print(\"Nodes\")\n",
    "pprint(nodes_ids)\n",
    "\n",
    "markers = [\"1\", \"2\", \"3\", \"4\", \"8\", \"s\", \"p\", \"P\", \"*\", \"h\", \"H\", \"+\", \"x\", \"X\", \"D\", \"d\", \"|\", \"_\"]\n",
    "line_styles = ['-', '--', ':', '-.']\n",
    "styles = itertools.cycle([marker + line for marker in markers for line in line_styles])"
   ]
  },
  {
   "cell_type": "code",
   "execution_count": 15,
   "metadata": {},
   "outputs": [
    {
     "name": "stdout",
     "output_type": "stream",
     "text": [
      "Processing trust for node 1592bdbb409f46d6ad0c1aa8e51b0360 => 1af44b40863c\n"
     ]
    },
    {
     "data": {
      "image/png": "[encoded data removed]",
      "text/plain": [
       "<Figure size 640x480 with 1 Axes>"
      ]
     },
     "metadata": {},
     "output_type": "display_data"
    }
   ],
   "source": [
    "import random\n",
    "\n",
    "node_id = random.choice(nodes_ids)\n",
    "\n",
    "if node_id not in list(nodes_mapping.values()):\n",
    "    print(f\"{node_id} not found in nodes_mapping\")\n",
    "node_name = list(nodes_mapping.keys())[list(nodes_mapping.values()).index(node_id)]\n",
    "\n",
    "print(f\"Processing trust for node {node_id} => {node_name}\")\n",
    "# Plot trust for node - all\n",
    "pivot = df_trust.xs(node_id, level=2).reset_index().pivot(index='time', columns='sourceNode', values='trust')\n",
    "style_list = [next(styles) for _ in pivot.columns]\n",
    "pivot.plot(\n",
    "    style=style_list,\n",
    "    legend=True,\n",
    "    title=f\"Change of trust for node {node_name} in time\",\n",
    "    xlabel=\"Time [s]\",\n",
    "    ylabel=\"Trust\",\n",
    "    grid=True\n",
    ")\n",
    "    # (df_trust.xs(node_id, level=2)\n",
    "    #     .reset_index()\n",
    "    #     .pivot(index='time', columns='sourceNode', values='trust')\n",
    "    #     .plot(kind='line', figsize=(10, 6), style=style_list))\n",
    "plt.title(f\"Change of trust for node {node_name} in time \")\n",
    "plt.xlabel('Time [s]')\n",
    "plt.ylabel('Trust')\n",
    "plt.legend(title='Source node')\n",
    "plt.grid(True)\n",
    "plt.savefig(os.path.join(result_path, f\"plot-trust-{node_name}.png\"))\n"
   ]
  },
  {
   "cell_type": "code",
   "execution_count": 24,
   "metadata": {},
   "outputs": [
    {
     "name": "stdout",
     "output_type": "stream",
     "text": [
      "<class 'pandas.core.frame.DataFrame'>\n",
      "Index: 132 entries, -26 to 105\n",
      "Data columns (total 7 columns):\n",
      " #   Column        Non-Null Count  Dtype \n",
      "---  ------        --------------  ----- \n",
      " 0   0a479aec6c60  60 non-null     object\n",
      " 1   1af44b40863c  65 non-null     object\n",
      " 2   435c733f0ed0  101 non-null    object\n",
      " 3   467bb1befdd6  101 non-null    object\n",
      " 4   b2af3cbba21d  95 non-null     object\n",
      " 5   cc2afc66a825  101 non-null    object\n",
      " 6   e5ef6f3d6292  101 non-null    object\n",
      "dtypes: object(7)\n",
      "memory usage: 8.2+ KB\n"
     ]
    },
    {
     "data": {
      "text/plain": [
       "5013"
      ]
     },
     "execution_count": 24,
     "metadata": {},
     "output_type": "execute_result"
    }
   ],
   "source": [
    "import numpy as np\n",
    "pivot.info()\n",
    "while True:\n",
    "    unique_trust = random.choice(pivot[random.choice(pivot.columns)].unique())\n",
    "    if unique_trust is not np.nan:\n",
    "        break\n",
    "unique_trust"
   ]
  },
  {
   "cell_type": "code",
   "execution_count": 25,
   "metadata": {},
   "outputs": [
    {
     "name": "stdout",
     "output_type": "stream",
     "text": [
      "Trust: 5007\n"
     ]
    },
    {
     "ename": "TypeError",
     "evalue": "int() argument must be a string, a bytes-like object or a real number, not 'NoneType'",
     "output_type": "error",
     "traceback": [
      "\u001b[0;31m---------------------------------------------------------------------------\u001b[0m",
      "\u001b[0;31mTypeError\u001b[0m                                 Traceback (most recent call last)",
      "Cell \u001b[0;32mIn[25], line 10\u001b[0m\n\u001b[1;32m      8\u001b[0m \u001b[38;5;28mprint\u001b[39m(\u001b[38;5;124m\"\u001b[39m\u001b[38;5;124mTrust: \u001b[39m\u001b[38;5;124m\"\u001b[39m \u001b[38;5;241m+\u001b[39m \u001b[38;5;28mstr\u001b[39m(\u001b[38;5;28mint\u001b[39m(random_trust)))\n\u001b[1;32m      9\u001b[0m first_idx \u001b[38;5;241m=\u001b[39m pivot[pivot\u001b[38;5;241m.\u001b[39mindex \u001b[38;5;241m==\u001b[39m random_trust]\u001b[38;5;241m.\u001b[39mfirst_valid_index()\n\u001b[0;32m---> 10\u001b[0m \u001b[38;5;28mprint\u001b[39m(\u001b[38;5;124m\"\u001b[39m\u001b[38;5;124mFirst index: \u001b[39m\u001b[38;5;124m\"\u001b[39m \u001b[38;5;241m+\u001b[39m \u001b[38;5;28mstr\u001b[39m(\u001b[38;5;28;43mint\u001b[39;49m\u001b[43m(\u001b[49m\u001b[43mfirst_idx\u001b[49m\u001b[43m)\u001b[49m))\n",
      "\u001b[0;31mTypeError\u001b[0m: int() argument must be a string, a bytes-like object or a real number, not 'NoneType'"
     ]
    }
   ],
   "source": [
    "import numpy as np\n",
    "while True:\n",
    "    random_column = random.choice(pivot.columns)\n",
    "    random_trust = random.choice(pivot[random_column].unique())\n",
    "    if random_trust is not np.nan:\n",
    "        break\n",
    "\n",
    "print(\"Trust: \" + str(int(random_trust)))\n",
    "first_idx = pivot[pivot.index == random_trust].first_valid_index()\n",
    "print(\"First index: \" + str(int(first_idx)))"
   ]
  },
  {
   "cell_type": "code",
   "execution_count": 7,
   "metadata": {},
   "outputs": [
    {
     "data": {
      "text/plain": [
       "1866"
      ]
     },
     "execution_count": 7,
     "metadata": {},
     "output_type": "execute_result"
    }
   ],
   "source": [
    "pivot = pivot.loc[first_idx - 5:first_idx + 5]\n",
    "style_list = [next(styles) for _ in pivot.columns]\n",
    "pivot.plot(\n",
    "    style=style_list,\n",
    "    legend=True,\n",
    "    title=f\"Change of trust for node {node_name} in time - change near {first_idx} second\",\n",
    "    xlabel=\"Time [s]\",\n",
    "    ylabel=\"Trust\",\n",
    "    grid=True\n",
    ")\n",
    "plt.legend(title='Source node')\n",
    "plt.grid(True)\n",
    "plt.savefig(os.path.join(result_path, f\"plot-trust-{node_name}-part.png\"))"
   ]
  },
  {
   "cell_type": "code",
   "execution_count": 8,
   "metadata": {},
   "outputs": [
    {
     "name": "stdout",
     "output_type": "stream",
     "text": [
      "Index 0 for validators 6c0d6727453640048d0ad5a977ac4ac6\n",
      "Index 19 for validators 1592bdbb409f46d6ad0c1aa8e51b0360,285b9ed67a214329af06e6a9ee5d28b2\n",
      "Index 175 for validators 6c0d6727453640048d0ad5a977ac4ac6,9b55ff3ca9b540778da0ff576f69cc10\n",
      "Index 328 for validators 4d5cf72eb0a84162a85c26a5d0051079,b8d9a3b6c6da4e2daa907687cfe4c978\n",
      "Index 485 for validators ab086f26851a46538805ad83d144fad6,4d5cf72eb0a84162a85c26a5d0051079\n"
     ]
    }
   ],
   "source": []
  }
 ],
 "metadata": {
  "kernelspec": {
   "display_name": "env",
   "language": "python",
   "name": "python3"
  },
  "language_info": {
   "codemirror_mode": {
    "name": "ipython",
    "version": 3
   },
   "file_extension": ".py",
   "mimetype": "text/x-python",
   "name": "python",
   "nbconvert_exporter": "python",
   "pygments_lexer": "ipython3",
   "version": "3.12.8"
  }
 },
 "nbformat": 4,
 "nbformat_minor": 2
}
