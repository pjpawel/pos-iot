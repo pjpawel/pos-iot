{
 "cells": [
  {
   "cell_type": "code",
   "execution_count": 47,
   "metadata": {},
   "outputs": [
    {
     "data": {
      "text/plain": [
       "'/home/pp/programs/magisterka/storage'"
      ]
     },
     "execution_count": 47,
     "metadata": {},
     "output_type": "execute_result"
    }
   ],
   "source": [
    "import os\n",
    "storage_path = os.path.realpath(os.path.join(os.path.dirname(os.path.abspath('')),'storage'))\n",
    "storage_path"
   ]
  },
  {
   "cell_type": "code",
   "execution_count": 48,
   "metadata": {},
   "outputs": [
    {
     "data": {
      "text/plain": [
       "True"
      ]
     },
     "execution_count": 48,
     "metadata": {},
     "output_type": "execute_result"
    }
   ],
   "source": [
    "from dotenv import load_dotenv\n",
    "load_dotenv()"
   ]
  },
  {
   "cell_type": "code",
   "execution_count": 49,
   "metadata": {},
   "outputs": [],
   "source": [
    "import pandas as pd"
   ]
  },
  {
   "cell_type": "code",
   "execution_count": 50,
   "metadata": {},
   "outputs": [],
   "source": [
    "dfs = []\n",
    "\n",
    "for dir in os.listdir(storage_path):\n",
    "    if dir not in [\"18cd3f76926b\", \"9a264c1b205c\"]:\n",
    "        continue\n",
    "    node_trust_full_history_path = os.path.join(storage_path, dir, 'storage', 'node_trust_full_history')\n",
    "    df = pd.read_csv(node_trust_full_history_path, names=['node', 'time', 'type', 'change', 'additionalData', 'timestamp'])\n",
    "    df['onNode'] = dir\n",
    "    dfs.append(df)\n",
    "    #dfs.append(pd.read_csv(node_trust_full_history_path, header=['node', 'time', 'type', 'change', 'additionalData']))"
   ]
  },
  {
   "cell_type": "code",
   "execution_count": 51,
   "metadata": {},
   "outputs": [
    {
     "data": {
      "text/html": [
       "<div>\n",
       "<style scoped>\n",
       "    .dataframe tbody tr th:only-of-type {\n",
       "        vertical-align: middle;\n",
       "    }\n",
       "\n",
       "    .dataframe tbody tr th {\n",
       "        vertical-align: top;\n",
       "    }\n",
       "\n",
       "    .dataframe thead th {\n",
       "        text-align: right;\n",
       "    }\n",
       "</style>\n",
       "<table border=\"1\" class=\"dataframe\">\n",
       "  <thead>\n",
       "    <tr style=\"text-align: right;\">\n",
       "      <th></th>\n",
       "      <th>node</th>\n",
       "      <th>time</th>\n",
       "      <th>type</th>\n",
       "      <th>change</th>\n",
       "      <th>additionalData</th>\n",
       "      <th>timestamp</th>\n",
       "      <th>onNode</th>\n",
       "    </tr>\n",
       "  </thead>\n",
       "  <tbody>\n",
       "    <tr>\n",
       "      <th>0</th>\n",
       "      <td>fc045c8d8e1049678ef5f8eac64db97e</td>\n",
       "      <td>1.733944e+09</td>\n",
       "      <td>2</td>\n",
       "      <td>2</td>\n",
       "      <td>b81ee7b9a7394b96af38552d188432cb</td>\n",
       "      <td>1.733944e+09</td>\n",
       "      <td>18cd3f76926b</td>\n",
       "    </tr>\n",
       "    <tr>\n",
       "      <th>1</th>\n",
       "      <td>c0ede0a347044f0981fa614fd021bf21</td>\n",
       "      <td>1.733944e+09</td>\n",
       "      <td>2</td>\n",
       "      <td>2</td>\n",
       "      <td>3f9c28ee2277425f96573e406829fa9d</td>\n",
       "      <td>1.733944e+09</td>\n",
       "      <td>18cd3f76926b</td>\n",
       "    </tr>\n",
       "    <tr>\n",
       "      <th>2</th>\n",
       "      <td>9346ecf17ffa4e808f8a8fda73768a82</td>\n",
       "      <td>1.733944e+09</td>\n",
       "      <td>1</td>\n",
       "      <td>1</td>\n",
       "      <td>b81ee7b9a7394b96af38552d188432cb</td>\n",
       "      <td>1.733944e+09</td>\n",
       "      <td>18cd3f76926b</td>\n",
       "    </tr>\n",
       "    <tr>\n",
       "      <th>3</th>\n",
       "      <td>fc045c8d8e1049678ef5f8eac64db97e</td>\n",
       "      <td>1.733944e+09</td>\n",
       "      <td>1</td>\n",
       "      <td>1</td>\n",
       "      <td>b81ee7b9a7394b96af38552d188432cb</td>\n",
       "      <td>1.733944e+09</td>\n",
       "      <td>18cd3f76926b</td>\n",
       "    </tr>\n",
       "    <tr>\n",
       "      <th>4</th>\n",
       "      <td>fc045c8d8e1049678ef5f8eac64db97e</td>\n",
       "      <td>1.733944e+09</td>\n",
       "      <td>1</td>\n",
       "      <td>1</td>\n",
       "      <td>3f9c28ee2277425f96573e406829fa9d</td>\n",
       "      <td>1.733944e+09</td>\n",
       "      <td>18cd3f76926b</td>\n",
       "    </tr>\n",
       "  </tbody>\n",
       "</table>\n",
       "</div>"
      ],
      "text/plain": [
       "                               node          time  type  change  \\\n",
       "0  fc045c8d8e1049678ef5f8eac64db97e  1.733944e+09     2       2   \n",
       "1  c0ede0a347044f0981fa614fd021bf21  1.733944e+09     2       2   \n",
       "2  9346ecf17ffa4e808f8a8fda73768a82  1.733944e+09     1       1   \n",
       "3  fc045c8d8e1049678ef5f8eac64db97e  1.733944e+09     1       1   \n",
       "4  fc045c8d8e1049678ef5f8eac64db97e  1.733944e+09     1       1   \n",
       "\n",
       "                     additionalData     timestamp        onNode  \n",
       "0  b81ee7b9a7394b96af38552d188432cb  1.733944e+09  18cd3f76926b  \n",
       "1  3f9c28ee2277425f96573e406829fa9d  1.733944e+09  18cd3f76926b  \n",
       "2  b81ee7b9a7394b96af38552d188432cb  1.733944e+09  18cd3f76926b  \n",
       "3  b81ee7b9a7394b96af38552d188432cb  1.733944e+09  18cd3f76926b  \n",
       "4  3f9c28ee2277425f96573e406829fa9d  1.733944e+09  18cd3f76926b  "
      ]
     },
     "execution_count": 51,
     "metadata": {},
     "output_type": "execute_result"
    }
   ],
   "source": [
    "dfs[0].head()"
   ]
  },
  {
   "cell_type": "code",
   "execution_count": 52,
   "metadata": {},
   "outputs": [
    {
     "data": {
      "text/html": [
       "<div>\n",
       "<style scoped>\n",
       "    .dataframe tbody tr th:only-of-type {\n",
       "        vertical-align: middle;\n",
       "    }\n",
       "\n",
       "    .dataframe tbody tr th {\n",
       "        vertical-align: top;\n",
       "    }\n",
       "\n",
       "    .dataframe thead th {\n",
       "        text-align: right;\n",
       "    }\n",
       "</style>\n",
       "<table border=\"1\" class=\"dataframe\">\n",
       "  <thead>\n",
       "    <tr style=\"text-align: right;\">\n",
       "      <th></th>\n",
       "      <th>node</th>\n",
       "      <th>time</th>\n",
       "      <th>type</th>\n",
       "      <th>change</th>\n",
       "      <th>additionalData</th>\n",
       "      <th>timestamp</th>\n",
       "      <th>onNode</th>\n",
       "    </tr>\n",
       "  </thead>\n",
       "  <tbody>\n",
       "    <tr>\n",
       "      <th>0</th>\n",
       "      <td>fc045c8d8e1049678ef5f8eac64db97e</td>\n",
       "      <td>1.733944e+09</td>\n",
       "      <td>2</td>\n",
       "      <td>2</td>\n",
       "      <td>b81ee7b9a7394b96af38552d188432cb</td>\n",
       "      <td>1.733944e+09</td>\n",
       "      <td>9a264c1b205c</td>\n",
       "    </tr>\n",
       "    <tr>\n",
       "      <th>1</th>\n",
       "      <td>c0ede0a347044f0981fa614fd021bf21</td>\n",
       "      <td>1.733944e+09</td>\n",
       "      <td>2</td>\n",
       "      <td>2</td>\n",
       "      <td>3f9c28ee2277425f96573e406829fa9d</td>\n",
       "      <td>1.733944e+09</td>\n",
       "      <td>9a264c1b205c</td>\n",
       "    </tr>\n",
       "    <tr>\n",
       "      <th>2</th>\n",
       "      <td>9346ecf17ffa4e808f8a8fda73768a82</td>\n",
       "      <td>1.733944e+09</td>\n",
       "      <td>1</td>\n",
       "      <td>1</td>\n",
       "      <td>b81ee7b9a7394b96af38552d188432cb</td>\n",
       "      <td>1.733944e+09</td>\n",
       "      <td>9a264c1b205c</td>\n",
       "    </tr>\n",
       "    <tr>\n",
       "      <th>3</th>\n",
       "      <td>fc045c8d8e1049678ef5f8eac64db97e</td>\n",
       "      <td>1.733944e+09</td>\n",
       "      <td>1</td>\n",
       "      <td>1</td>\n",
       "      <td>b81ee7b9a7394b96af38552d188432cb</td>\n",
       "      <td>1.733944e+09</td>\n",
       "      <td>9a264c1b205c</td>\n",
       "    </tr>\n",
       "    <tr>\n",
       "      <th>4</th>\n",
       "      <td>fc045c8d8e1049678ef5f8eac64db97e</td>\n",
       "      <td>1.733944e+09</td>\n",
       "      <td>1</td>\n",
       "      <td>1</td>\n",
       "      <td>3f9c28ee2277425f96573e406829fa9d</td>\n",
       "      <td>1.733944e+09</td>\n",
       "      <td>9a264c1b205c</td>\n",
       "    </tr>\n",
       "  </tbody>\n",
       "</table>\n",
       "</div>"
      ],
      "text/plain": [
       "                               node          time  type  change  \\\n",
       "0  fc045c8d8e1049678ef5f8eac64db97e  1.733944e+09     2       2   \n",
       "1  c0ede0a347044f0981fa614fd021bf21  1.733944e+09     2       2   \n",
       "2  9346ecf17ffa4e808f8a8fda73768a82  1.733944e+09     1       1   \n",
       "3  fc045c8d8e1049678ef5f8eac64db97e  1.733944e+09     1       1   \n",
       "4  fc045c8d8e1049678ef5f8eac64db97e  1.733944e+09     1       1   \n",
       "\n",
       "                     additionalData     timestamp        onNode  \n",
       "0  b81ee7b9a7394b96af38552d188432cb  1.733944e+09  9a264c1b205c  \n",
       "1  3f9c28ee2277425f96573e406829fa9d  1.733944e+09  9a264c1b205c  \n",
       "2  b81ee7b9a7394b96af38552d188432cb  1.733944e+09  9a264c1b205c  \n",
       "3  b81ee7b9a7394b96af38552d188432cb  1.733944e+09  9a264c1b205c  \n",
       "4  3f9c28ee2277425f96573e406829fa9d  1.733944e+09  9a264c1b205c  "
      ]
     },
     "execution_count": 52,
     "metadata": {},
     "output_type": "execute_result"
    }
   ],
   "source": [
    "dfs[1].head()"
   ]
  },
  {
   "cell_type": "code",
   "execution_count": 53,
   "metadata": {},
   "outputs": [
    {
     "name": "stdout",
     "output_type": "stream",
     "text": [
      "<class 'pandas.core.frame.DataFrame'>\n",
      "RangeIndex: 284 entries, 0 to 283\n",
      "Data columns (total 7 columns):\n",
      " #   Column          Non-Null Count  Dtype  \n",
      "---  ------          --------------  -----  \n",
      " 0   node            284 non-null    object \n",
      " 1   time            284 non-null    float64\n",
      " 2   type            284 non-null    int64  \n",
      " 3   change          284 non-null    int64  \n",
      " 4   additionalData  284 non-null    object \n",
      " 5   timestamp       284 non-null    float64\n",
      " 6   onNode          284 non-null    object \n",
      "dtypes: float64(2), int64(2), object(3)\n",
      "memory usage: 15.7+ KB\n"
     ]
    }
   ],
   "source": [
    "dfs[0].info()"
   ]
  },
  {
   "cell_type": "code",
   "execution_count": 64,
   "metadata": {},
   "outputs": [
    {
     "name": "stdout",
     "output_type": "stream",
     "text": [
      "<class 'pandas.core.frame.DataFrame'>\n",
      "RangeIndex: 218 entries, 0 to 217\n",
      "Data columns (total 8 columns):\n",
      " #   Column          Non-Null Count  Dtype  \n",
      "---  ------          --------------  -----  \n",
      " 0   node            218 non-null    object \n",
      " 1   time            218 non-null    float64\n",
      " 2   type            218 non-null    int64  \n",
      " 3   change          218 non-null    int64  \n",
      " 4   additionalData  218 non-null    object \n",
      " 5   timestamp       218 non-null    float64\n",
      " 6   onNode          218 non-null    object \n",
      " 7   compacted       218 non-null    object \n",
      "dtypes: float64(2), int64(2), object(4)\n",
      "memory usage: 13.8+ KB\n"
     ]
    }
   ],
   "source": [
    "dfs[1].info()"
   ]
  },
  {
   "cell_type": "code",
   "execution_count": 54,
   "metadata": {},
   "outputs": [],
   "source": [
    "map = {\n",
    "    '02607c0d99fc': '120e05f702ba4a26b43047324c341939',\n",
    "    '20cca97ec98e': 'd8e9c6225785448eb147cd94b62c578e',\n",
    "    '3a82a21d1bd4': '20e712e469fe4359a2ceb01f9982ecb1',\n",
    "    '3c7ecdb6d154': '2e625ebf5bc9446c8cba3881a076dbc4',\n",
    "    '493e3d6c8adb': '65344202646e4187ab07c7b69e4b9292',\n",
    "    'c02d96d54701': 'd8addb074c1f40f78f40d936f0e758bc',\n",
    "    'e3db09078659': 'd9ddcfcc3fbe4edf827e1ba3da5797a3'\n",
    "}"
   ]
  },
  {
   "cell_type": "code",
   "execution_count": 55,
   "metadata": {},
   "outputs": [
    {
     "data": {
      "text/plain": [
       "{'120e05f702ba4a26b43047324c341939': '02607c0d99fc',\n",
       " 'd8e9c6225785448eb147cd94b62c578e': '20cca97ec98e',\n",
       " '20e712e469fe4359a2ceb01f9982ecb1': '3a82a21d1bd4',\n",
       " '2e625ebf5bc9446c8cba3881a076dbc4': '3c7ecdb6d154',\n",
       " '65344202646e4187ab07c7b69e4b9292': '493e3d6c8adb',\n",
       " 'd8addb074c1f40f78f40d936f0e758bc': 'c02d96d54701',\n",
       " 'd9ddcfcc3fbe4edf827e1ba3da5797a3': 'e3db09078659'}"
      ]
     },
     "execution_count": 55,
     "metadata": {},
     "output_type": "execute_result"
    }
   ],
   "source": [
    "map = {v: k for k, v in map.items()}\n",
    "map"
   ]
  },
  {
   "cell_type": "code",
   "execution_count": 56,
   "metadata": {},
   "outputs": [],
   "source": [
    "for df in dfs:\n",
    "    df['node'] = df['node'].map(lambda x: map.get(x, x))\n",
    "    df['compacted'] = df['node'] + '__' + df['type'].astype(str) + '__' + df['change'].astype(str) + '__' + df['additionalData'].astype(str) #df['time'].astype(str) +"
   ]
  },
  {
   "cell_type": "code",
   "execution_count": 57,
   "metadata": {},
   "outputs": [
    {
     "data": {
      "text/html": [
       "<div>\n",
       "<style scoped>\n",
       "    .dataframe tbody tr th:only-of-type {\n",
       "        vertical-align: middle;\n",
       "    }\n",
       "\n",
       "    .dataframe tbody tr th {\n",
       "        vertical-align: top;\n",
       "    }\n",
       "\n",
       "    .dataframe thead th {\n",
       "        text-align: right;\n",
       "    }\n",
       "</style>\n",
       "<table border=\"1\" class=\"dataframe\">\n",
       "  <thead>\n",
       "    <tr style=\"text-align: right;\">\n",
       "      <th></th>\n",
       "      <th>node</th>\n",
       "      <th>time</th>\n",
       "      <th>type</th>\n",
       "      <th>change</th>\n",
       "      <th>additionalData</th>\n",
       "      <th>timestamp</th>\n",
       "      <th>onNode</th>\n",
       "      <th>compacted</th>\n",
       "    </tr>\n",
       "  </thead>\n",
       "  <tbody>\n",
       "    <tr>\n",
       "      <th>0</th>\n",
       "      <td>fc045c8d8e1049678ef5f8eac64db97e</td>\n",
       "      <td>1.733944e+09</td>\n",
       "      <td>2</td>\n",
       "      <td>2</td>\n",
       "      <td>b81ee7b9a7394b96af38552d188432cb</td>\n",
       "      <td>1.733944e+09</td>\n",
       "      <td>18cd3f76926b</td>\n",
       "      <td>fc045c8d8e1049678ef5f8eac64db97e__2__2__b81ee7...</td>\n",
       "    </tr>\n",
       "    <tr>\n",
       "      <th>1</th>\n",
       "      <td>c0ede0a347044f0981fa614fd021bf21</td>\n",
       "      <td>1.733944e+09</td>\n",
       "      <td>2</td>\n",
       "      <td>2</td>\n",
       "      <td>3f9c28ee2277425f96573e406829fa9d</td>\n",
       "      <td>1.733944e+09</td>\n",
       "      <td>18cd3f76926b</td>\n",
       "      <td>c0ede0a347044f0981fa614fd021bf21__2__2__3f9c28...</td>\n",
       "    </tr>\n",
       "    <tr>\n",
       "      <th>2</th>\n",
       "      <td>9346ecf17ffa4e808f8a8fda73768a82</td>\n",
       "      <td>1.733944e+09</td>\n",
       "      <td>1</td>\n",
       "      <td>1</td>\n",
       "      <td>b81ee7b9a7394b96af38552d188432cb</td>\n",
       "      <td>1.733944e+09</td>\n",
       "      <td>18cd3f76926b</td>\n",
       "      <td>9346ecf17ffa4e808f8a8fda73768a82__1__1__b81ee7...</td>\n",
       "    </tr>\n",
       "    <tr>\n",
       "      <th>3</th>\n",
       "      <td>fc045c8d8e1049678ef5f8eac64db97e</td>\n",
       "      <td>1.733944e+09</td>\n",
       "      <td>1</td>\n",
       "      <td>1</td>\n",
       "      <td>b81ee7b9a7394b96af38552d188432cb</td>\n",
       "      <td>1.733944e+09</td>\n",
       "      <td>18cd3f76926b</td>\n",
       "      <td>fc045c8d8e1049678ef5f8eac64db97e__1__1__b81ee7...</td>\n",
       "    </tr>\n",
       "    <tr>\n",
       "      <th>4</th>\n",
       "      <td>fc045c8d8e1049678ef5f8eac64db97e</td>\n",
       "      <td>1.733944e+09</td>\n",
       "      <td>1</td>\n",
       "      <td>1</td>\n",
       "      <td>3f9c28ee2277425f96573e406829fa9d</td>\n",
       "      <td>1.733944e+09</td>\n",
       "      <td>18cd3f76926b</td>\n",
       "      <td>fc045c8d8e1049678ef5f8eac64db97e__1__1__3f9c28...</td>\n",
       "    </tr>\n",
       "  </tbody>\n",
       "</table>\n",
       "</div>"
      ],
      "text/plain": [
       "                               node          time  type  change  \\\n",
       "0  fc045c8d8e1049678ef5f8eac64db97e  1.733944e+09     2       2   \n",
       "1  c0ede0a347044f0981fa614fd021bf21  1.733944e+09     2       2   \n",
       "2  9346ecf17ffa4e808f8a8fda73768a82  1.733944e+09     1       1   \n",
       "3  fc045c8d8e1049678ef5f8eac64db97e  1.733944e+09     1       1   \n",
       "4  fc045c8d8e1049678ef5f8eac64db97e  1.733944e+09     1       1   \n",
       "\n",
       "                     additionalData     timestamp        onNode  \\\n",
       "0  b81ee7b9a7394b96af38552d188432cb  1.733944e+09  18cd3f76926b   \n",
       "1  3f9c28ee2277425f96573e406829fa9d  1.733944e+09  18cd3f76926b   \n",
       "2  b81ee7b9a7394b96af38552d188432cb  1.733944e+09  18cd3f76926b   \n",
       "3  b81ee7b9a7394b96af38552d188432cb  1.733944e+09  18cd3f76926b   \n",
       "4  3f9c28ee2277425f96573e406829fa9d  1.733944e+09  18cd3f76926b   \n",
       "\n",
       "                                           compacted  \n",
       "0  fc045c8d8e1049678ef5f8eac64db97e__2__2__b81ee7...  \n",
       "1  c0ede0a347044f0981fa614fd021bf21__2__2__3f9c28...  \n",
       "2  9346ecf17ffa4e808f8a8fda73768a82__1__1__b81ee7...  \n",
       "3  fc045c8d8e1049678ef5f8eac64db97e__1__1__b81ee7...  \n",
       "4  fc045c8d8e1049678ef5f8eac64db97e__1__1__3f9c28...  "
      ]
     },
     "execution_count": 57,
     "metadata": {},
     "output_type": "execute_result"
    }
   ],
   "source": [
    "dfs[0].head()"
   ]
  },
  {
   "cell_type": "code",
   "execution_count": 58,
   "metadata": {},
   "outputs": [
    {
     "data": {
      "text/html": [
       "<div>\n",
       "<style scoped>\n",
       "    .dataframe tbody tr th:only-of-type {\n",
       "        vertical-align: middle;\n",
       "    }\n",
       "\n",
       "    .dataframe tbody tr th {\n",
       "        vertical-align: top;\n",
       "    }\n",
       "\n",
       "    .dataframe thead th {\n",
       "        text-align: right;\n",
       "    }\n",
       "</style>\n",
       "<table border=\"1\" class=\"dataframe\">\n",
       "  <thead>\n",
       "    <tr style=\"text-align: right;\">\n",
       "      <th></th>\n",
       "      <th>node</th>\n",
       "      <th>time</th>\n",
       "      <th>type</th>\n",
       "      <th>change</th>\n",
       "      <th>additionalData</th>\n",
       "      <th>timestamp</th>\n",
       "      <th>onNode</th>\n",
       "      <th>compacted</th>\n",
       "    </tr>\n",
       "  </thead>\n",
       "  <tbody>\n",
       "    <tr>\n",
       "      <th>0</th>\n",
       "      <td>fc045c8d8e1049678ef5f8eac64db97e</td>\n",
       "      <td>1.733944e+09</td>\n",
       "      <td>2</td>\n",
       "      <td>2</td>\n",
       "      <td>b81ee7b9a7394b96af38552d188432cb</td>\n",
       "      <td>1.733944e+09</td>\n",
       "      <td>9a264c1b205c</td>\n",
       "      <td>fc045c8d8e1049678ef5f8eac64db97e__2__2__b81ee7...</td>\n",
       "    </tr>\n",
       "    <tr>\n",
       "      <th>1</th>\n",
       "      <td>c0ede0a347044f0981fa614fd021bf21</td>\n",
       "      <td>1.733944e+09</td>\n",
       "      <td>2</td>\n",
       "      <td>2</td>\n",
       "      <td>3f9c28ee2277425f96573e406829fa9d</td>\n",
       "      <td>1.733944e+09</td>\n",
       "      <td>9a264c1b205c</td>\n",
       "      <td>c0ede0a347044f0981fa614fd021bf21__2__2__3f9c28...</td>\n",
       "    </tr>\n",
       "    <tr>\n",
       "      <th>2</th>\n",
       "      <td>9346ecf17ffa4e808f8a8fda73768a82</td>\n",
       "      <td>1.733944e+09</td>\n",
       "      <td>1</td>\n",
       "      <td>1</td>\n",
       "      <td>b81ee7b9a7394b96af38552d188432cb</td>\n",
       "      <td>1.733944e+09</td>\n",
       "      <td>9a264c1b205c</td>\n",
       "      <td>9346ecf17ffa4e808f8a8fda73768a82__1__1__b81ee7...</td>\n",
       "    </tr>\n",
       "    <tr>\n",
       "      <th>3</th>\n",
       "      <td>fc045c8d8e1049678ef5f8eac64db97e</td>\n",
       "      <td>1.733944e+09</td>\n",
       "      <td>1</td>\n",
       "      <td>1</td>\n",
       "      <td>b81ee7b9a7394b96af38552d188432cb</td>\n",
       "      <td>1.733944e+09</td>\n",
       "      <td>9a264c1b205c</td>\n",
       "      <td>fc045c8d8e1049678ef5f8eac64db97e__1__1__b81ee7...</td>\n",
       "    </tr>\n",
       "    <tr>\n",
       "      <th>4</th>\n",
       "      <td>fc045c8d8e1049678ef5f8eac64db97e</td>\n",
       "      <td>1.733944e+09</td>\n",
       "      <td>1</td>\n",
       "      <td>1</td>\n",
       "      <td>3f9c28ee2277425f96573e406829fa9d</td>\n",
       "      <td>1.733944e+09</td>\n",
       "      <td>9a264c1b205c</td>\n",
       "      <td>fc045c8d8e1049678ef5f8eac64db97e__1__1__3f9c28...</td>\n",
       "    </tr>\n",
       "  </tbody>\n",
       "</table>\n",
       "</div>"
      ],
      "text/plain": [
       "                               node          time  type  change  \\\n",
       "0  fc045c8d8e1049678ef5f8eac64db97e  1.733944e+09     2       2   \n",
       "1  c0ede0a347044f0981fa614fd021bf21  1.733944e+09     2       2   \n",
       "2  9346ecf17ffa4e808f8a8fda73768a82  1.733944e+09     1       1   \n",
       "3  fc045c8d8e1049678ef5f8eac64db97e  1.733944e+09     1       1   \n",
       "4  fc045c8d8e1049678ef5f8eac64db97e  1.733944e+09     1       1   \n",
       "\n",
       "                     additionalData     timestamp        onNode  \\\n",
       "0  b81ee7b9a7394b96af38552d188432cb  1.733944e+09  9a264c1b205c   \n",
       "1  3f9c28ee2277425f96573e406829fa9d  1.733944e+09  9a264c1b205c   \n",
       "2  b81ee7b9a7394b96af38552d188432cb  1.733944e+09  9a264c1b205c   \n",
       "3  b81ee7b9a7394b96af38552d188432cb  1.733944e+09  9a264c1b205c   \n",
       "4  3f9c28ee2277425f96573e406829fa9d  1.733944e+09  9a264c1b205c   \n",
       "\n",
       "                                           compacted  \n",
       "0  fc045c8d8e1049678ef5f8eac64db97e__2__2__b81ee7...  \n",
       "1  c0ede0a347044f0981fa614fd021bf21__2__2__3f9c28...  \n",
       "2  9346ecf17ffa4e808f8a8fda73768a82__1__1__b81ee7...  \n",
       "3  fc045c8d8e1049678ef5f8eac64db97e__1__1__b81ee7...  \n",
       "4  fc045c8d8e1049678ef5f8eac64db97e__1__1__3f9c28...  "
      ]
     },
     "execution_count": 58,
     "metadata": {},
     "output_type": "execute_result"
    }
   ],
   "source": [
    "dfs[1].head()"
   ]
  },
  {
   "cell_type": "code",
   "execution_count": 59,
   "metadata": {},
   "outputs": [
    {
     "data": {
      "text/plain": [
       "compacted\n",
       "9346ecf17ffa4e808f8a8fda73768a82__1__1__d1f8ba39e16c4015ac393c935f35c112    2\n",
       "fc045c8d8e1049678ef5f8eac64db97e__1__1__ecb9f560726c4597a2bc1e770185ca27    2\n",
       "fc045c8d8e1049678ef5f8eac64db97e__1__1__9620e25579cb4a03a6bc1c0a7738d0df    2\n",
       "9346ecf17ffa4e808f8a8fda73768a82__1__1__9620e25579cb4a03a6bc1c0a7738d0df    2\n",
       "fc045c8d8e1049678ef5f8eac64db97e__1__1__b230b622bc8f4ad086e17bb79e02f078    2\n",
       "                                                                           ..\n",
       "fc045c8d8e1049678ef5f8eac64db97e__1__1__300ed61bf2544f95b4d8acafa844efca    1\n",
       "30b0c572063d473e96f4bd076b4ef083__2__2__83b0af58fc944d6282f45954672fce88    1\n",
       "9346ecf17ffa4e808f8a8fda73768a82__1__1__83b0af58fc944d6282f45954672fce88    1\n",
       "fc045c8d8e1049678ef5f8eac64db97e__1__1__83b0af58fc944d6282f45954672fce88    1\n",
       "9346ecf17ffa4e808f8a8fda73768a82__1__1__d080c8f2b39b434d87ea4ca8b3c4eb5b    1\n",
       "Name: count, Length: 218, dtype: int64"
      ]
     },
     "execution_count": 59,
     "metadata": {},
     "output_type": "execute_result"
    }
   ],
   "source": [
    "dfs[0]['compacted'].value_counts()"
   ]
  },
  {
   "cell_type": "code",
   "execution_count": 60,
   "metadata": {},
   "outputs": [
    {
     "data": {
      "text/plain": [
       "compacted\n",
       "fc045c8d8e1049678ef5f8eac64db97e__2__2__b81ee7b9a7394b96af38552d188432cb    1\n",
       "fc045c8d8e1049678ef5f8eac64db97e__1__1__ae43beed909449aa8e862e4ec2ce8754    1\n",
       "d0c14d301b024be4b6575dccf4132cbe__2__2__9681d0f68cd749598fc990381c0928de    1\n",
       "df330bc15eec418ca9cc9ce9817492cf__2__2__02b5278dc8f4487b83f4a282fc9df48d    1\n",
       "fc045c8d8e1049678ef5f8eac64db97e__1__1__9681d0f68cd749598fc990381c0928de    1\n",
       "                                                                           ..\n",
       "c0ede0a347044f0981fa614fd021bf21__2__2__0a9e59067f8d4df989f8ca70d8d36f02    1\n",
       "9346ecf17ffa4e808f8a8fda73768a82__1__1__d7fe9420c30b448f9d2fc4d5d31d3a81    1\n",
       "fc045c8d8e1049678ef5f8eac64db97e__1__1__d7fe9420c30b448f9d2fc4d5d31d3a81    1\n",
       "9346ecf17ffa4e808f8a8fda73768a82__1__1__0a9e59067f8d4df989f8ca70d8d36f02    1\n",
       "9346ecf17ffa4e808f8a8fda73768a82__1__1__d1f8ba39e16c4015ac393c935f35c112    1\n",
       "Name: count, Length: 218, dtype: int64"
      ]
     },
     "execution_count": 60,
     "metadata": {},
     "output_type": "execute_result"
    }
   ],
   "source": [
    "dfs[1]['compacted'].value_counts()"
   ]
  },
  {
   "cell_type": "code",
   "execution_count": 61,
   "metadata": {},
   "outputs": [
    {
     "data": {
      "text/plain": [
       "set()"
      ]
     },
     "execution_count": 61,
     "metadata": {},
     "output_type": "execute_result"
    }
   ],
   "source": [
    "set(dfs[0]['compacted']).difference(set(dfs[1]['compacted']))"
   ]
  },
  {
   "cell_type": "code",
   "execution_count": null,
   "metadata": {},
   "outputs": [],
   "source": [
    "set(dfs[1]['compacted']).difference(set(dfs[0]['compacted']))"
   ]
  },
  {
   "cell_type": "code",
   "execution_count": 63,
   "metadata": {},
   "outputs": [
    {
     "data": {
      "text/plain": [
       "0"
      ]
     },
     "execution_count": 63,
     "metadata": {},
     "output_type": "execute_result"
    }
   ],
   "source": [
    "len(set(dfs[1]['compacted']).difference(set(dfs[0]['compacted'])))"
   ]
  },
  {
   "cell_type": "code",
   "execution_count": 70,
   "metadata": {},
   "outputs": [
    {
     "data": {
      "text/plain": [
       "218"
      ]
     },
     "execution_count": 70,
     "metadata": {},
     "output_type": "execute_result"
    }
   ],
   "source": [
    "len(dfs[0]['compacted'].unique())"
   ]
  },
  {
   "cell_type": "code",
   "execution_count": 68,
   "metadata": {},
   "outputs": [
    {
     "data": {
      "text/plain": [
       "218"
      ]
     },
     "execution_count": 68,
     "metadata": {},
     "output_type": "execute_result"
    }
   ],
   "source": [
    "len(dfs[1]['compacted'].unique())"
   ]
  }
 ],
 "metadata": {
  "kernelspec": {
   "display_name": "env",
   "language": "python",
   "name": "python3"
  },
  "language_info": {
   "codemirror_mode": {
    "name": "ipython",
    "version": 3
   },
   "file_extension": ".py",
   "mimetype": "text/x-python",
   "name": "python",
   "nbconvert_exporter": "python",
   "pygments_lexer": "ipython3",
   "version": "3.12.7"
  }
 },
 "nbformat": 4,
 "nbformat_minor": 2
}
