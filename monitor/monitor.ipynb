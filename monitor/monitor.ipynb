{
 "cells": [
  {
   "cell_type": "markdown",
   "id": "0b9d1467-fbc4-4292-8be2-6dadc7f5c5e3",
   "metadata": {},
   "source": [
    "Monitoring of Proof of Trust Network"
   ]
  },
  {
   "cell_type": "code",
   "execution_count": null,
   "id": "8de2f397-408c-4838-ae06-d12d40171a3b",
   "metadata": {},
   "outputs": [],
   "source": [
    "DUMP path"
   ]
  }
 ],
 "metadata": {
  "kernelspec": {
   "display_name": "Python 3 (ipykernel)",
   "language": "python",
   "name": "python3"
  },
  "language_info": {
   "codemirror_mode": {
    "name": "ipython",
    "version": 3
   },
   "file_extension": ".py",
   "mimetype": "text/x-python",
   "name": "python",
   "nbconvert_exporter": "python",
   "pygments_lexer": "ipython3",
   "version": "3.11.5"
  }
 },
 "nbformat": 4,
 "nbformat_minor": 5
}
