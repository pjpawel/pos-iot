{
 "cells": [
  {
   "cell_type": "code",
   "execution_count": 2,
   "metadata": {},
   "outputs": [
    {
     "data": {
      "text/plain": [
       "'/home/pp/programs/magisterka/storage'"
      ]
     },
     "execution_count": 2,
     "metadata": {},
     "output_type": "execute_result"
    }
   ],
   "source": [
    "import os\n",
    "storage_path = os.path.realpath(os.path.join(os.path.dirname(os.path.abspath('')),'storage'))\n",
    "storage_path"
   ]
  },
  {
   "cell_type": "code",
   "execution_count": 3,
   "metadata": {},
   "outputs": [
    {
     "data": {
      "text/plain": [
       "True"
      ]
     },
     "execution_count": 3,
     "metadata": {},
     "output_type": "execute_result"
    }
   ],
   "source": [
    "from dotenv import load_dotenv\n",
    "load_dotenv()"
   ]
  },
  {
   "cell_type": "code",
   "execution_count": 4,
   "metadata": {},
   "outputs": [],
   "source": [
    "import pandas as pd"
   ]
  },
  {
   "cell_type": "code",
   "execution_count": 23,
   "metadata": {},
   "outputs": [],
   "source": [
    "dfs = []\n",
    "\n",
    "for dir in os.listdir(storage_path):\n",
    "    node_trust_full_history_path = os.path.join(storage_path, dir, 'storage', 'node_trust_full_history')\n",
    "    df = pd.read_csv(node_trust_full_history_path, names=['node', 'time', 'type', 'change', 'additionalData', 'timestamp'])\n",
    "    df['onNode'] = dir\n",
    "    dfs.append(df)\n",
    "    #dfs.append(pd.read_csv(node_trust_full_history_path, header=['node', 'time', 'type', 'change', 'additionalData']))"
   ]
  },
  {
   "cell_type": "code",
   "execution_count": 24,
   "metadata": {},
   "outputs": [
    {
     "data": {
      "text/html": [
       "<div>\n",
       "<style scoped>\n",
       "    .dataframe tbody tr th:only-of-type {\n",
       "        vertical-align: middle;\n",
       "    }\n",
       "\n",
       "    .dataframe tbody tr th {\n",
       "        vertical-align: top;\n",
       "    }\n",
       "\n",
       "    .dataframe thead th {\n",
       "        text-align: right;\n",
       "    }\n",
       "</style>\n",
       "<table border=\"1\" class=\"dataframe\">\n",
       "  <thead>\n",
       "    <tr style=\"text-align: right;\">\n",
       "      <th></th>\n",
       "      <th>node</th>\n",
       "      <th>time</th>\n",
       "      <th>type</th>\n",
       "      <th>change</th>\n",
       "      <th>additionalData</th>\n",
       "      <th>timestamp</th>\n",
       "      <th>onNode</th>\n",
       "    </tr>\n",
       "  </thead>\n",
       "  <tbody>\n",
       "    <tr>\n",
       "      <th>0</th>\n",
       "      <td>b32386a5f44840ce991e8c395c960874</td>\n",
       "      <td>1.733775e+09</td>\n",
       "      <td>2</td>\n",
       "      <td>2</td>\n",
       "      <td>171de2281f8346539a78813caf55e0fa</td>\n",
       "      <td>1.733775e+09</td>\n",
       "      <td>0e82b6e649ff</td>\n",
       "    </tr>\n",
       "    <tr>\n",
       "      <th>1</th>\n",
       "      <td>5e65022e094349b1bd49122a31cfd85b</td>\n",
       "      <td>1.733775e+09</td>\n",
       "      <td>1</td>\n",
       "      <td>1</td>\n",
       "      <td>NaN</td>\n",
       "      <td>1.733775e+09</td>\n",
       "      <td>0e82b6e649ff</td>\n",
       "    </tr>\n",
       "    <tr>\n",
       "      <th>2</th>\n",
       "      <td>70f3dd12f8a84b9c957d30a4474941b8</td>\n",
       "      <td>1.733775e+09</td>\n",
       "      <td>1</td>\n",
       "      <td>1</td>\n",
       "      <td>NaN</td>\n",
       "      <td>1.733775e+09</td>\n",
       "      <td>0e82b6e649ff</td>\n",
       "    </tr>\n",
       "    <tr>\n",
       "      <th>3</th>\n",
       "      <td>c9d95fdd312e4ba5a70215b076654336</td>\n",
       "      <td>1.733775e+09</td>\n",
       "      <td>2</td>\n",
       "      <td>2</td>\n",
       "      <td>9cf37ec9318e44038adddf16e5adc047</td>\n",
       "      <td>1.733775e+09</td>\n",
       "      <td>0e82b6e649ff</td>\n",
       "    </tr>\n",
       "    <tr>\n",
       "      <th>4</th>\n",
       "      <td>5e65022e094349b1bd49122a31cfd85b</td>\n",
       "      <td>1.733775e+09</td>\n",
       "      <td>1</td>\n",
       "      <td>1</td>\n",
       "      <td>NaN</td>\n",
       "      <td>1.733775e+09</td>\n",
       "      <td>0e82b6e649ff</td>\n",
       "    </tr>\n",
       "  </tbody>\n",
       "</table>\n",
       "</div>"
      ],
      "text/plain": [
       "                               node          time  type  change  \\\n",
       "0  b32386a5f44840ce991e8c395c960874  1.733775e+09     2       2   \n",
       "1  5e65022e094349b1bd49122a31cfd85b  1.733775e+09     1       1   \n",
       "2  70f3dd12f8a84b9c957d30a4474941b8  1.733775e+09     1       1   \n",
       "3  c9d95fdd312e4ba5a70215b076654336  1.733775e+09     2       2   \n",
       "4  5e65022e094349b1bd49122a31cfd85b  1.733775e+09     1       1   \n",
       "\n",
       "                     additionalData     timestamp        onNode  \n",
       "0  171de2281f8346539a78813caf55e0fa  1.733775e+09  0e82b6e649ff  \n",
       "1                               NaN  1.733775e+09  0e82b6e649ff  \n",
       "2                               NaN  1.733775e+09  0e82b6e649ff  \n",
       "3  9cf37ec9318e44038adddf16e5adc047  1.733775e+09  0e82b6e649ff  \n",
       "4                               NaN  1.733775e+09  0e82b6e649ff  "
      ]
     },
     "execution_count": 24,
     "metadata": {},
     "output_type": "execute_result"
    }
   ],
   "source": [
    "dfs[0].head()"
   ]
  },
  {
   "cell_type": "code",
   "execution_count": 25,
   "metadata": {},
   "outputs": [
    {
     "name": "stdout",
     "output_type": "stream",
     "text": [
      "<class 'pandas.core.frame.DataFrame'>\n",
      "RangeIndex: 1731 entries, 0 to 1730\n",
      "Data columns (total 7 columns):\n",
      " #   Column          Non-Null Count  Dtype  \n",
      "---  ------          --------------  -----  \n",
      " 0   node            1731 non-null   object \n",
      " 1   time            1731 non-null   float64\n",
      " 2   type            1731 non-null   int64  \n",
      " 3   change          1731 non-null   int64  \n",
      " 4   additionalData  676 non-null    object \n",
      " 5   timestamp       1731 non-null   float64\n",
      " 6   onNode          1731 non-null   object \n",
      "dtypes: float64(2), int64(2), object(3)\n",
      "memory usage: 94.8+ KB\n"
     ]
    }
   ],
   "source": [
    "dfs[0].info()"
   ]
  },
  {
   "cell_type": "code",
   "execution_count": 26,
   "metadata": {},
   "outputs": [
    {
     "data": {
      "text/html": [
       "<div>\n",
       "<style scoped>\n",
       "    .dataframe tbody tr th:only-of-type {\n",
       "        vertical-align: middle;\n",
       "    }\n",
       "\n",
       "    .dataframe tbody tr th {\n",
       "        vertical-align: top;\n",
       "    }\n",
       "\n",
       "    .dataframe thead th {\n",
       "        text-align: right;\n",
       "    }\n",
       "</style>\n",
       "<table border=\"1\" class=\"dataframe\">\n",
       "  <thead>\n",
       "    <tr style=\"text-align: right;\">\n",
       "      <th></th>\n",
       "      <th>node</th>\n",
       "      <th>time</th>\n",
       "      <th>type</th>\n",
       "      <th>change</th>\n",
       "      <th>additionalData</th>\n",
       "      <th>timestamp</th>\n",
       "      <th>onNode</th>\n",
       "    </tr>\n",
       "  </thead>\n",
       "  <tbody>\n",
       "    <tr>\n",
       "      <th>0</th>\n",
       "      <td>b32386a5f44840ce991e8c395c960874</td>\n",
       "      <td>1.733775e+09</td>\n",
       "      <td>2</td>\n",
       "      <td>2</td>\n",
       "      <td>171de2281f8346539a78813caf55e0fa</td>\n",
       "      <td>1.733775e+09</td>\n",
       "      <td>0e82b6e649ff</td>\n",
       "    </tr>\n",
       "    <tr>\n",
       "      <th>1</th>\n",
       "      <td>5e65022e094349b1bd49122a31cfd85b</td>\n",
       "      <td>1.733775e+09</td>\n",
       "      <td>1</td>\n",
       "      <td>1</td>\n",
       "      <td>NaN</td>\n",
       "      <td>1.733775e+09</td>\n",
       "      <td>0e82b6e649ff</td>\n",
       "    </tr>\n",
       "    <tr>\n",
       "      <th>2</th>\n",
       "      <td>70f3dd12f8a84b9c957d30a4474941b8</td>\n",
       "      <td>1.733775e+09</td>\n",
       "      <td>1</td>\n",
       "      <td>1</td>\n",
       "      <td>NaN</td>\n",
       "      <td>1.733775e+09</td>\n",
       "      <td>0e82b6e649ff</td>\n",
       "    </tr>\n",
       "    <tr>\n",
       "      <th>3</th>\n",
       "      <td>c9d95fdd312e4ba5a70215b076654336</td>\n",
       "      <td>1.733775e+09</td>\n",
       "      <td>2</td>\n",
       "      <td>2</td>\n",
       "      <td>9cf37ec9318e44038adddf16e5adc047</td>\n",
       "      <td>1.733775e+09</td>\n",
       "      <td>0e82b6e649ff</td>\n",
       "    </tr>\n",
       "    <tr>\n",
       "      <th>4</th>\n",
       "      <td>5e65022e094349b1bd49122a31cfd85b</td>\n",
       "      <td>1.733775e+09</td>\n",
       "      <td>1</td>\n",
       "      <td>1</td>\n",
       "      <td>NaN</td>\n",
       "      <td>1.733775e+09</td>\n",
       "      <td>0e82b6e649ff</td>\n",
       "    </tr>\n",
       "  </tbody>\n",
       "</table>\n",
       "</div>"
      ],
      "text/plain": [
       "                               node          time  type  change  \\\n",
       "0  b32386a5f44840ce991e8c395c960874  1.733775e+09     2       2   \n",
       "1  5e65022e094349b1bd49122a31cfd85b  1.733775e+09     1       1   \n",
       "2  70f3dd12f8a84b9c957d30a4474941b8  1.733775e+09     1       1   \n",
       "3  c9d95fdd312e4ba5a70215b076654336  1.733775e+09     2       2   \n",
       "4  5e65022e094349b1bd49122a31cfd85b  1.733775e+09     1       1   \n",
       "\n",
       "                     additionalData     timestamp        onNode  \n",
       "0  171de2281f8346539a78813caf55e0fa  1.733775e+09  0e82b6e649ff  \n",
       "1                               NaN  1.733775e+09  0e82b6e649ff  \n",
       "2                               NaN  1.733775e+09  0e82b6e649ff  \n",
       "3  9cf37ec9318e44038adddf16e5adc047  1.733775e+09  0e82b6e649ff  \n",
       "4                               NaN  1.733775e+09  0e82b6e649ff  "
      ]
     },
     "execution_count": 26,
     "metadata": {},
     "output_type": "execute_result"
    }
   ],
   "source": [
    "df = pd.concat(dfs)\n",
    "df.head()"
   ]
  },
  {
   "cell_type": "code",
   "execution_count": 27,
   "metadata": {},
   "outputs": [
    {
     "name": "stdout",
     "output_type": "stream",
     "text": [
      "<class 'pandas.core.frame.DataFrame'>\n",
      "Index: 9927 entries, 0 to 1271\n",
      "Data columns (total 7 columns):\n",
      " #   Column          Non-Null Count  Dtype  \n",
      "---  ------          --------------  -----  \n",
      " 0   node            9927 non-null   object \n",
      " 1   time            9927 non-null   float64\n",
      " 2   type            9927 non-null   int64  \n",
      " 3   change          9927 non-null   int64  \n",
      " 4   additionalData  4732 non-null   object \n",
      " 5   timestamp       9927 non-null   float64\n",
      " 6   onNode          9927 non-null   object \n",
      "dtypes: float64(2), int64(2), object(3)\n",
      "memory usage: 620.4+ KB\n"
     ]
    }
   ],
   "source": [
    "df.info()"
   ]
  },
  {
   "cell_type": "code",
   "execution_count": 28,
   "metadata": {
    "vscode": {
     "languageId": "javascript"
    }
   },
   "outputs": [
    {
     "data": {
      "text/html": [
       "<div>\n",
       "<style scoped>\n",
       "    .dataframe tbody tr th:only-of-type {\n",
       "        vertical-align: middle;\n",
       "    }\n",
       "\n",
       "    .dataframe tbody tr th {\n",
       "        vertical-align: top;\n",
       "    }\n",
       "\n",
       "    .dataframe thead th {\n",
       "        text-align: right;\n",
       "    }\n",
       "</style>\n",
       "<table border=\"1\" class=\"dataframe\">\n",
       "  <thead>\n",
       "    <tr style=\"text-align: right;\">\n",
       "      <th></th>\n",
       "      <th>time</th>\n",
       "      <th>timestamp</th>\n",
       "      <th>onNode</th>\n",
       "      <th>concatenated</th>\n",
       "    </tr>\n",
       "  </thead>\n",
       "  <tbody>\n",
       "    <tr>\n",
       "      <th>0</th>\n",
       "      <td>1.733775e+09</td>\n",
       "      <td>1.733775e+09</td>\n",
       "      <td>0e82b6e649ff</td>\n",
       "      <td>b32386a5f44840ce991e8c395c960874:2:2:171de2281...</td>\n",
       "    </tr>\n",
       "    <tr>\n",
       "      <th>1</th>\n",
       "      <td>1.733775e+09</td>\n",
       "      <td>1.733775e+09</td>\n",
       "      <td>0e82b6e649ff</td>\n",
       "      <td>5e65022e094349b1bd49122a31cfd85b:1:1:nan</td>\n",
       "    </tr>\n",
       "    <tr>\n",
       "      <th>2</th>\n",
       "      <td>1.733775e+09</td>\n",
       "      <td>1.733775e+09</td>\n",
       "      <td>0e82b6e649ff</td>\n",
       "      <td>70f3dd12f8a84b9c957d30a4474941b8:1:1:nan</td>\n",
       "    </tr>\n",
       "    <tr>\n",
       "      <th>3</th>\n",
       "      <td>1.733775e+09</td>\n",
       "      <td>1.733775e+09</td>\n",
       "      <td>0e82b6e649ff</td>\n",
       "      <td>c9d95fdd312e4ba5a70215b076654336:2:2:9cf37ec93...</td>\n",
       "    </tr>\n",
       "    <tr>\n",
       "      <th>4</th>\n",
       "      <td>1.733775e+09</td>\n",
       "      <td>1.733775e+09</td>\n",
       "      <td>0e82b6e649ff</td>\n",
       "      <td>5e65022e094349b1bd49122a31cfd85b:1:1:nan</td>\n",
       "    </tr>\n",
       "  </tbody>\n",
       "</table>\n",
       "</div>"
      ],
      "text/plain": [
       "           time     timestamp        onNode  \\\n",
       "0  1.733775e+09  1.733775e+09  0e82b6e649ff   \n",
       "1  1.733775e+09  1.733775e+09  0e82b6e649ff   \n",
       "2  1.733775e+09  1.733775e+09  0e82b6e649ff   \n",
       "3  1.733775e+09  1.733775e+09  0e82b6e649ff   \n",
       "4  1.733775e+09  1.733775e+09  0e82b6e649ff   \n",
       "\n",
       "                                        concatenated  \n",
       "0  b32386a5f44840ce991e8c395c960874:2:2:171de2281...  \n",
       "1           5e65022e094349b1bd49122a31cfd85b:1:1:nan  \n",
       "2           70f3dd12f8a84b9c957d30a4474941b8:1:1:nan  \n",
       "3  c9d95fdd312e4ba5a70215b076654336:2:2:9cf37ec93...  \n",
       "4           5e65022e094349b1bd49122a31cfd85b:1:1:nan  "
      ]
     },
     "execution_count": 28,
     "metadata": {},
     "output_type": "execute_result"
    }
   ],
   "source": [
    "df['concatenated'] = df['node'].astype(str) + ':' + df['type'].astype(str) + ':' + df['change'].astype(str) + ':' + df['additionalData'].astype(str)\n",
    "df.drop(columns=['node', 'type', 'change', 'additionalData'], inplace=True)\n",
    "df.head()"
   ]
  },
  {
   "cell_type": "code",
   "execution_count": null,
   "metadata": {},
   "outputs": [
    {
     "data": {
      "text/html": [
       "<div>\n",
       "<style scoped>\n",
       "    .dataframe tbody tr th:only-of-type {\n",
       "        vertical-align: middle;\n",
       "    }\n",
       "\n",
       "    .dataframe tbody tr th {\n",
       "        vertical-align: top;\n",
       "    }\n",
       "\n",
       "    .dataframe thead th {\n",
       "        text-align: right;\n",
       "    }\n",
       "</style>\n",
       "<table border=\"1\" class=\"dataframe\">\n",
       "  <thead>\n",
       "    <tr style=\"text-align: right;\">\n",
       "      <th></th>\n",
       "      <th>time</th>\n",
       "      <th>onNode</th>\n",
       "      <th>concatenated</th>\n",
       "    </tr>\n",
       "  </thead>\n",
       "  <tbody>\n",
       "    <tr>\n",
       "      <th>0</th>\n",
       "      <td>1.733775e+09</td>\n",
       "      <td>0e82b6e649ff</td>\n",
       "      <td>b32386a5f44840ce991e8c395c960874:2:2:171de2281...</td>\n",
       "    </tr>\n",
       "    <tr>\n",
       "      <th>1</th>\n",
       "      <td>1.733775e+09</td>\n",
       "      <td>0e82b6e649ff</td>\n",
       "      <td>5e65022e094349b1bd49122a31cfd85b:1:1:nan</td>\n",
       "    </tr>\n",
       "    <tr>\n",
       "      <th>2</th>\n",
       "      <td>1.733775e+09</td>\n",
       "      <td>0e82b6e649ff</td>\n",
       "      <td>70f3dd12f8a84b9c957d30a4474941b8:1:1:nan</td>\n",
       "    </tr>\n",
       "    <tr>\n",
       "      <th>3</th>\n",
       "      <td>1.733775e+09</td>\n",
       "      <td>0e82b6e649ff</td>\n",
       "      <td>c9d95fdd312e4ba5a70215b076654336:2:2:9cf37ec93...</td>\n",
       "    </tr>\n",
       "    <tr>\n",
       "      <th>4</th>\n",
       "      <td>1.733775e+09</td>\n",
       "      <td>0e82b6e649ff</td>\n",
       "      <td>5e65022e094349b1bd49122a31cfd85b:1:1:nan</td>\n",
       "    </tr>\n",
       "  </tbody>\n",
       "</table>\n",
       "</div>"
      ],
      "text/plain": [
       "           time        onNode  \\\n",
       "0  1.733775e+09  0e82b6e649ff   \n",
       "1  1.733775e+09  0e82b6e649ff   \n",
       "2  1.733775e+09  0e82b6e649ff   \n",
       "3  1.733775e+09  0e82b6e649ff   \n",
       "4  1.733775e+09  0e82b6e649ff   \n",
       "\n",
       "                                        concatenated  \n",
       "0  b32386a5f44840ce991e8c395c960874:2:2:171de2281...  \n",
       "1           5e65022e094349b1bd49122a31cfd85b:1:1:nan  \n",
       "2           70f3dd12f8a84b9c957d30a4474941b8:1:1:nan  \n",
       "3  c9d95fdd312e4ba5a70215b076654336:2:2:9cf37ec93...  \n",
       "4           5e65022e094349b1bd49122a31cfd85b:1:1:nan  "
      ]
     },
     "execution_count": 29,
     "metadata": {},
     "output_type": "execute_result"
    }
   ],
   "source": [
    "df.drop(columns=['timestamp'], inplace=True)\n",
    "df.head()"
   ]
  },
  {
   "cell_type": "code",
   "execution_count": 30,
   "metadata": {
    "vscode": {
     "languageId": "javascript"
    }
   },
   "outputs": [
    {
     "name": "stdout",
     "output_type": "stream",
     "text": [
      "<class 'pandas.core.frame.DataFrame'>\n",
      "Index: 9927 entries, 0 to 1271\n",
      "Data columns (total 3 columns):\n",
      " #   Column        Non-Null Count  Dtype  \n",
      "---  ------        --------------  -----  \n",
      " 0   time          9927 non-null   float64\n",
      " 1   onNode        9927 non-null   object \n",
      " 2   concatenated  9927 non-null   object \n",
      "dtypes: float64(1), object(2)\n",
      "memory usage: 310.2+ KB\n"
     ]
    }
   ],
   "source": [
    "df.info()"
   ]
  },
  {
   "cell_type": "code",
   "execution_count": 32,
   "metadata": {
    "vscode": {
     "languageId": "javascript"
    }
   },
   "outputs": [
    {
     "data": {
      "text/plain": [
       "684"
      ]
     },
     "execution_count": 32,
     "metadata": {},
     "output_type": "execute_result"
    }
   ],
   "source": [
    "len(df['concatenated'].unique())"
   ]
  },
  {
   "cell_type": "code",
   "execution_count": 33,
   "metadata": {},
   "outputs": [
    {
     "data": {
      "text/html": [
       "<div>\n",
       "<style scoped>\n",
       "    .dataframe tbody tr th:only-of-type {\n",
       "        vertical-align: middle;\n",
       "    }\n",
       "\n",
       "    .dataframe tbody tr th {\n",
       "        vertical-align: top;\n",
       "    }\n",
       "\n",
       "    .dataframe thead th {\n",
       "        text-align: right;\n",
       "    }\n",
       "</style>\n",
       "<table border=\"1\" class=\"dataframe\">\n",
       "  <thead>\n",
       "    <tr style=\"text-align: right;\">\n",
       "      <th></th>\n",
       "      <th></th>\n",
       "      <th>time</th>\n",
       "    </tr>\n",
       "    <tr>\n",
       "      <th>concatenated</th>\n",
       "      <th>onNode</th>\n",
       "      <th></th>\n",
       "    </tr>\n",
       "  </thead>\n",
       "  <tbody>\n",
       "    <tr>\n",
       "      <th>b32386a5f44840ce991e8c395c960874:2:2:171de2281f8346539a78813caf55e0fa</th>\n",
       "      <th>0e82b6e649ff</th>\n",
       "      <td>1.733775e+09</td>\n",
       "    </tr>\n",
       "    <tr>\n",
       "      <th>5e65022e094349b1bd49122a31cfd85b:1:1:nan</th>\n",
       "      <th>0e82b6e649ff</th>\n",
       "      <td>1.733775e+09</td>\n",
       "    </tr>\n",
       "    <tr>\n",
       "      <th>70f3dd12f8a84b9c957d30a4474941b8:1:1:nan</th>\n",
       "      <th>0e82b6e649ff</th>\n",
       "      <td>1.733775e+09</td>\n",
       "    </tr>\n",
       "    <tr>\n",
       "      <th>c9d95fdd312e4ba5a70215b076654336:2:2:9cf37ec9318e44038adddf16e5adc047</th>\n",
       "      <th>0e82b6e649ff</th>\n",
       "      <td>1.733775e+09</td>\n",
       "    </tr>\n",
       "    <tr>\n",
       "      <th>5e65022e094349b1bd49122a31cfd85b:1:1:nan</th>\n",
       "      <th>0e82b6e649ff</th>\n",
       "      <td>1.733775e+09</td>\n",
       "    </tr>\n",
       "  </tbody>\n",
       "</table>\n",
       "</div>"
      ],
      "text/plain": [
       "                                                                         time\n",
       "concatenated                                       onNode                    \n",
       "b32386a5f44840ce991e8c395c960874:2:2:171de2281f... 0e82b6e649ff  1.733775e+09\n",
       "5e65022e094349b1bd49122a31cfd85b:1:1:nan           0e82b6e649ff  1.733775e+09\n",
       "70f3dd12f8a84b9c957d30a4474941b8:1:1:nan           0e82b6e649ff  1.733775e+09\n",
       "c9d95fdd312e4ba5a70215b076654336:2:2:9cf37ec931... 0e82b6e649ff  1.733775e+09\n",
       "5e65022e094349b1bd49122a31cfd85b:1:1:nan           0e82b6e649ff  1.733775e+09"
      ]
     },
     "execution_count": 33,
     "metadata": {},
     "output_type": "execute_result"
    }
   ],
   "source": [
    "df.set_index(['concatenated', 'onNode'], inplace=True)\n",
    "df.head()"
   ]
  },
  {
   "cell_type": "code",
   "execution_count": 34,
   "metadata": {},
   "outputs": [
    {
     "name": "stdout",
     "output_type": "stream",
     "text": [
      "<class 'pandas.core.frame.DataFrame'>\n",
      "MultiIndex: 9927 entries, ('b32386a5f44840ce991e8c395c960874:2:2:171de2281f8346539a78813caf55e0fa', '0e82b6e649ff') to ('5b1ba4635b8d4f128162e7131705efc6:2:2:24ce83f277a84ebc8509859c3354c580', 'da7521745bf5')\n",
      "Data columns (total 1 columns):\n",
      " #   Column  Non-Null Count  Dtype  \n",
      "---  ------  --------------  -----  \n",
      " 0   time    9927 non-null   float64\n",
      "dtypes: float64(1)\n",
      "memory usage: 128.6+ KB\n"
     ]
    }
   ],
   "source": [
    "df.info()"
   ]
  },
  {
   "cell_type": "code",
   "execution_count": 36,
   "metadata": {},
   "outputs": [
    {
     "data": {
      "text/html": [
       "<div>\n",
       "<style scoped>\n",
       "    .dataframe tbody tr th:only-of-type {\n",
       "        vertical-align: middle;\n",
       "    }\n",
       "\n",
       "    .dataframe tbody tr th {\n",
       "        vertical-align: top;\n",
       "    }\n",
       "\n",
       "    .dataframe thead th {\n",
       "        text-align: right;\n",
       "    }\n",
       "</style>\n",
       "<table border=\"1\" class=\"dataframe\">\n",
       "  <thead>\n",
       "    <tr style=\"text-align: right;\">\n",
       "      <th></th>\n",
       "      <th></th>\n",
       "      <th>time</th>\n",
       "    </tr>\n",
       "    <tr>\n",
       "      <th>concatenated</th>\n",
       "      <th>onNode</th>\n",
       "      <th></th>\n",
       "    </tr>\n",
       "  </thead>\n",
       "  <tbody>\n",
       "    <tr>\n",
       "      <th>b32386a5f44840ce991e8c395c960874:2:2:171de2281f8346539a78813caf55e0fa</th>\n",
       "      <th>0e82b6e649ff</th>\n",
       "      <td>1.733775e+09</td>\n",
       "    </tr>\n",
       "    <tr>\n",
       "      <th>5e65022e094349b1bd49122a31cfd85b:1:1:nan</th>\n",
       "      <th>0e82b6e649ff</th>\n",
       "      <td>1.733775e+09</td>\n",
       "    </tr>\n",
       "    <tr>\n",
       "      <th>70f3dd12f8a84b9c957d30a4474941b8:1:1:nan</th>\n",
       "      <th>0e82b6e649ff</th>\n",
       "      <td>1.733775e+09</td>\n",
       "    </tr>\n",
       "    <tr>\n",
       "      <th>c9d95fdd312e4ba5a70215b076654336:2:2:9cf37ec9318e44038adddf16e5adc047</th>\n",
       "      <th>0e82b6e649ff</th>\n",
       "      <td>1.733775e+09</td>\n",
       "    </tr>\n",
       "    <tr>\n",
       "      <th>5e65022e094349b1bd49122a31cfd85b:1:1:nan</th>\n",
       "      <th>0e82b6e649ff</th>\n",
       "      <td>1.733775e+09</td>\n",
       "    </tr>\n",
       "    <tr>\n",
       "      <th>...</th>\n",
       "      <th>...</th>\n",
       "      <td>...</td>\n",
       "    </tr>\n",
       "    <tr>\n",
       "      <th>c9d95fdd312e4ba5a70215b076654336:2:2:fb6dc2d4d29d406587b70af1b40701ff</th>\n",
       "      <th>da7521745bf5</th>\n",
       "      <td>1.733776e+09</td>\n",
       "    </tr>\n",
       "    <tr>\n",
       "      <th>b43fbba2822044659ad8b30b0939028d:2:2:bb6a3672fd944b30a0bd4b78ed177f7e</th>\n",
       "      <th>da7521745bf5</th>\n",
       "      <td>1.733776e+09</td>\n",
       "    </tr>\n",
       "    <tr>\n",
       "      <th>70f3dd12f8a84b9c957d30a4474941b8:1:1:nan</th>\n",
       "      <th>da7521745bf5</th>\n",
       "      <td>1.733776e+09</td>\n",
       "    </tr>\n",
       "    <tr>\n",
       "      <th>ea5fc0046bd846669381b6f9cfe8ce8a:1:1:nan</th>\n",
       "      <th>da7521745bf5</th>\n",
       "      <td>1.733776e+09</td>\n",
       "    </tr>\n",
       "    <tr>\n",
       "      <th>5b1ba4635b8d4f128162e7131705efc6:2:2:24ce83f277a84ebc8509859c3354c580</th>\n",
       "      <th>da7521745bf5</th>\n",
       "      <td>1.733776e+09</td>\n",
       "    </tr>\n",
       "  </tbody>\n",
       "</table>\n",
       "<p>9927 rows × 1 columns</p>\n",
       "</div>"
      ],
      "text/plain": [
       "                                                                         time\n",
       "concatenated                                       onNode                    \n",
       "b32386a5f44840ce991e8c395c960874:2:2:171de2281f... 0e82b6e649ff  1.733775e+09\n",
       "5e65022e094349b1bd49122a31cfd85b:1:1:nan           0e82b6e649ff  1.733775e+09\n",
       "70f3dd12f8a84b9c957d30a4474941b8:1:1:nan           0e82b6e649ff  1.733775e+09\n",
       "c9d95fdd312e4ba5a70215b076654336:2:2:9cf37ec931... 0e82b6e649ff  1.733775e+09\n",
       "5e65022e094349b1bd49122a31cfd85b:1:1:nan           0e82b6e649ff  1.733775e+09\n",
       "...                                                                       ...\n",
       "c9d95fdd312e4ba5a70215b076654336:2:2:fb6dc2d4d2... da7521745bf5  1.733776e+09\n",
       "b43fbba2822044659ad8b30b0939028d:2:2:bb6a3672fd... da7521745bf5  1.733776e+09\n",
       "70f3dd12f8a84b9c957d30a4474941b8:1:1:nan           da7521745bf5  1.733776e+09\n",
       "ea5fc0046bd846669381b6f9cfe8ce8a:1:1:nan           da7521745bf5  1.733776e+09\n",
       "5b1ba4635b8d4f128162e7131705efc6:2:2:24ce83f277... da7521745bf5  1.733776e+09\n",
       "\n",
       "[9927 rows x 1 columns]"
      ]
     },
     "execution_count": 36,
     "metadata": {},
     "output_type": "execute_result"
    }
   ],
   "source": [
    "df[df['time'] > 1733774784]"
   ]
  },
  {
   "cell_type": "code",
   "execution_count": null,
   "metadata": {},
   "outputs": [],
   "source": []
  }
 ],
 "metadata": {
  "kernelspec": {
   "display_name": "env",
   "language": "python",
   "name": "python3"
  },
  "language_info": {
   "codemirror_mode": {
    "name": "ipython",
    "version": 3
   },
   "file_extension": ".py",
   "mimetype": "text/x-python",
   "name": "python",
   "nbconvert_exporter": "python",
   "pygments_lexer": "ipython3",
   "version": "3.12.7"
  }
 },
 "nbformat": 4,
 "nbformat_minor": 2
}
