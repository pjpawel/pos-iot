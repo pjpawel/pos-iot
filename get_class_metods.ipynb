{
 "cells": [
  {
   "cell_type": "code",
   "execution_count": 6,
   "metadata": {},
   "outputs": [],
   "source": [
    "import importlib\n",
    "import inspect"
   ]
  },
  {
   "cell_type": "code",
   "execution_count": 21,
   "metadata": {},
   "outputs": [],
   "source": [
    "def print_method_signature(modulePath, className):\n",
    "    module = importlib.import_module(modulePath)\n",
    "    cls = getattr(module, className)\n",
    "    methods = inspect.getmembers(cls, predicate=inspect.isfunction)\n",
    "    for method_name, method in methods:\n",
    "        signature = inspect.signature(method)\n",
    "        print(f\"  {method_name}{signature}\")"
   ]
  },
  {
   "cell_type": "code",
   "execution_count": 20,
   "metadata": {},
   "outputs": [
    {
     "name": "stdout",
     "output_type": "stream",
     "text": [
      "  __init__(self)\n",
      "  _check_for_missing_transactions(self, diff, txs_verified, txs_verified_with_ident)\n",
      "  _check_validator_list(self, validator_list)\n",
      "  _get_node_by_identifier(self, identifier: uuid.UUID) -> pot.network.node.Node\n",
      "  _get_node_from_request_addr(self, request_addr: str) -> pot.network.node.Node\n",
      "  _register_new_block_validator(self, block)\n",
      "  _send_to_all_nodes(self, func, args: list)\n",
      "  _validate_create_uuid(self, identifier: str) -> uuid.UUID\n",
      "  _validate_if_i_am_validator(self) -> None\n",
      "  _validate_request_dict_keys(self, data: dict, keys: list[str]) -> None\n",
      "  _validate_request_from_validator(self, request_addr: str) -> None\n",
      "  add_new_block(self, data: bytes, request_addr: str)\n",
      "  add_transaction_verification_result(self, uuid: uuid.UUID, node: pot.network.node.Node, result: bool)\n",
      "  block_new(self, data: bytes, request_addr: str)\n",
      "  change_node_trust(self, change_node: pot.network.node.Node, change_type: pot.network.trust.TrustChangeType, change: int | None = None, additional_data: str = '')\n",
      "  is_self_node_is_registered(self, genesis_ip: str) -> bool\n",
      "  load(self, only_from_file: bool = False) -> None\n",
      "  load_from_validator_node(self, genesis_ip: str) -> None\n",
      "  node_new_validators(self, remote_addr: str, data: dict)\n",
      "  node_register(self, identifier: uuid.UUID, node_ip: str, port: int, n_type: pot.network.node.NodeType) -> dict | tuple\n",
      "  node_trust_change(self, identifier: str, data: dict)\n",
      "  node_update(self, data: dict) -> dict | tuple\n",
      "  node_validator_agreement_done(self, remote_addr: str, data: dict)\n",
      "  node_validator_agreement_get(self, remote_addr: str) -> dict\n",
      "  node_validator_agreement_list_set(self, uuids: list[uuid.UUID])\n",
      "  node_validator_agreement_start(self, remote_addr: str, data: dict)\n",
      "  node_validator_agreement_vote(self, remote_addr: str, data: dict)\n",
      "  populate_new_node(self, data: dict, request_addr: str) -> None\n",
      "  send_multiple_trust_change(self, nodes: list[pot.network.node.Node | uuid.UUID], change_type: pot.network.trust.TrustChangeType, change: int, additional_data: str = '')\n",
      "  send_new_transaction_verified(self, identifier: uuid.UUID, tx_verified: pot.network.transaction.TxVerified)\n",
      "  send_transaction_populate(self, uuid: uuid.UUID, tx: pot.network.transaction.Tx)\n",
      "  send_transaction_verification(self, uuid: uuid.UUID, verified: bool, message: str | None = None)\n",
      "  send_validators_list(self)\n",
      "  transaction_get(self, identifier: str) -> bytes\n",
      "  transaction_new(self, data: bytes, request_addr: str) -> dict\n",
      "  transaction_populate(self, data: bytes, identifier: str) -> None\n",
      "  transaction_populate_verify_result(self, verified: bool, identifier: str, remote_addr: str)\n",
      "  transaction_verified_new(self, identifier: str, data: str, request_addr: str)\n",
      "  update_from_validator_node(self, genesis_ip: str) -> None\n",
      "  validator_agreement_end(self)\n"
     ]
    }
   ],
   "source": [
    "print_method_signature('pot.network.blockchain', 'PoT')"
   ]
  },
  {
   "cell_type": "code",
   "execution_count": 26,
   "metadata": {},
   "outputs": [
    {
     "name": "stdout",
     "output_type": "stream",
     "text": [
      "  __init__(self, storage: str | None = None)\n",
      "  _is_set_lock(self) -> bool\n",
      "  _set_lock(self) -> None\n",
      "  _wait_for_lock(self) -> None\n",
      "  dump(self, blocks: list[pot.network.block.Block])\n",
      "  get_size(self) -> int\n",
      "  has_files(self) -> bool\n",
      "  invalidate_cache(self) -> None\n",
      "  is_empty(self) -> bool\n",
      "  is_up_to_date(self)\n",
      "  load(self) -> list[pot.network.block.Block]\n",
      "  load_from_file(self, f: <class 'BinaryIO'>) -> list[pot.network.block.Block]\n",
      "  unlock(self) -> None\n",
      "  update(self, blocks: list[pot.network.block.Block])\n",
      "  update_cache(self)\n",
      "  wait_for_set_lock(self, timeout: int = 10) -> None\n"
     ]
    }
   ],
   "source": [
    "print_method_signature('pot.network.storage', 'BlocksStorage')"
   ]
  }
 ],
 "metadata": {
  "kernelspec": {
   "display_name": "env",
   "language": "python",
   "name": "python3"
  },
  "language_info": {
   "codemirror_mode": {
    "name": "ipython",
    "version": 3
   },
   "file_extension": ".py",
   "mimetype": "text/x-python",
   "name": "python",
   "nbconvert_exporter": "python",
   "pygments_lexer": "ipython3",
   "version": "3.12.8"
  }
 },
 "nbformat": 4,
 "nbformat_minor": 2
}
