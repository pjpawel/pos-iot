{
 "cells": [
  {
   "cell_type": "code",
   "execution_count": 1,
   "metadata": {},
   "outputs": [],
   "source": [
    "import datetime\n",
    "import os\n",
    "from uuid import UUID\n",
    "from pprint import pprint\n",
    "\n",
    "import pandas as pd\n",
    "import matplotlib.pyplot as plt\n",
    "from dotenv import load_dotenv\n",
    "\n",
    "from pot.network.node import SelfNodeInfo\n",
    "from pot.network.storage import BlocksStorage, NodeStorage, TransactionStorage, NodeTrustStorage, ValidatorStorage, \\\n",
    "    TransactionVerifiedStorage\n",
    "from pot.network.manager import NodeTrust"
   ]
  },
  {
   "cell_type": "code",
   "execution_count": 6,
   "metadata": {},
   "outputs": [
    {
     "data": {
      "text/plain": [
       "'/home/pp/programs/magisterka/monitor/result'"
      ]
     },
     "execution_count": 6,
     "metadata": {},
     "output_type": "execute_result"
    }
   ],
   "source": [
    "storage_path = os.path.realpath(os.path.join(os.path.dirname(os.path.abspath('')),'storage'))\n",
    "result_path = os.path.realpath(os.path.join(os.path.dirname(os.path.abspath('')),'monitor', 'result'))\n",
    "result_path"
   ]
  },
  {
   "cell_type": "code",
   "execution_count": 7,
   "metadata": {},
   "outputs": [
    {
     "data": {
      "text/plain": [
       "True"
      ]
     },
     "execution_count": 7,
     "metadata": {},
     "output_type": "execute_result"
    }
   ],
   "source": [
    "firsts_records = 1000\n",
    "load_dotenv()"
   ]
  },
  {
   "cell_type": "code",
   "execution_count": 8,
   "metadata": {},
   "outputs": [],
   "source": [
    "def get_self_node_info(path: str) -> UUID:\n",
    "    old_value = os.getenv('STORAGE_DIR')\n",
    "    os.environ[\"STORAGE_DIR\"] = path\n",
    "    self_node = SelfNodeInfo(True)\n",
    "    os.environ[\"STORAGE_DIR\"] = old_value\n",
    "    return self_node.identifier\n",
    "\n",
    "\n",
    "def get_info_from_blockchain(path: str) -> dict:\n",
    "    storage = BlocksStorage(path)\n",
    "    blocks = storage.load()\n",
    "    return {\n",
    "        \"len\": len(blocks),\n",
    "        \"transaction_len\": sum([len(block.transactions) for block in blocks])\n",
    "    }\n",
    "\n",
    "\n",
    "def get_info_from_nodes(path: str) -> dict:\n",
    "    storage = NodeStorage(path)\n",
    "    nodes = storage.load()\n",
    "    trust = NodeTrust.__new__(NodeTrust)\n",
    "    trust._storage = NodeTrustStorage(path)\n",
    "    # trust._storage.load()\n",
    "    # print(f\"Trust from {path}: {trust._storage.load()}\")\n",
    "    # old_value = os.getenv('STORAGE_DIR')\n",
    "    # os.putenv('STORAGE_DIR', path)\n",
    "    # self_node = SelfNodeInfo()\n",
    "    # os.putenv('STORAGE_DIR', old_value)\n",
    "    return {\n",
    "        \"len\": len(nodes),\n",
    "        #\"trust\": trust.get_node_trust(self_node.get_node())\n",
    "        \"trust\": trust._storage.load()\n",
    "    }\n",
    "\n",
    "\n",
    "def get_info_from_validators(path: str) -> dict:\n",
    "    storage = ValidatorStorage(path)\n",
    "    validators = storage.load()\n",
    "    return {\n",
    "        \"len\": len(validators)\n",
    "    }\n",
    "\n",
    "\n",
    "def get_info_from_transactions_to_verify(path: str) -> dict:\n",
    "    storage = TransactionStorage(path)\n",
    "    try:\n",
    "        txs = storage.load()\n",
    "    except Exception as e:\n",
    "        print(f\"Error while processing path {path}: {e}\")\n",
    "        txs = []\n",
    "    return {\n",
    "        \"len\": len(txs)\n",
    "    }\n",
    "\n",
    "\n",
    "def get_info_from_transactions_verified(path: str) -> dict:\n",
    "    storage = TransactionVerifiedStorage(path)\n",
    "    txs = storage.load()\n",
    "    return {\n",
    "        \"len\": len(txs)\n",
    "    }"
   ]
  },
  {
   "cell_type": "code",
   "execution_count": 9,
   "metadata": {},
   "outputs": [],
   "source": [
    "cols_dict = {\n",
    "    'time': 'Time',\n",
    "    'number_of_nodes': 'Number of nodes',\n",
    "    'number_of_validators': 'Number of validators',\n",
    "    # 'node_trust': 'Node trust',\n",
    "    'number_of_blocks': 'Number of blocks',\n",
    "    'number_of_transaction_to_verify': 'Number of transactions to verify',\n",
    "    'number_of_verified_transactions': 'Number of verified transactions',\n",
    "}\n",
    "\n",
    "cols = list(cols_dict.keys())"
   ]
  },
  {
   "cell_type": "code",
   "execution_count": 10,
   "metadata": {},
   "outputs": [],
   "source": [
    "df_trust = pd.DataFrame(columns=[\"time\", \"sourceNode\", \"node\", \"trust\"])\n",
    "df_trust.set_index([\"time\", \"sourceNode\", \"node\"], inplace=True)\n",
    "\n",
    "first_time = None\n",
    "dfs = {}\n",
    "nodes_mapping = {}"
   ]
  },
  {
   "cell_type": "code",
   "execution_count": null,
   "metadata": {},
   "outputs": [],
   "source": []
  }
 ],
 "metadata": {
  "kernelspec": {
   "display_name": "env",
   "language": "python",
   "name": "python3"
  },
  "language_info": {
   "codemirror_mode": {
    "name": "ipython",
    "version": 3
   },
   "file_extension": ".py",
   "mimetype": "text/x-python",
   "name": "python",
   "nbconvert_exporter": "python",
   "pygments_lexer": "ipython3",
   "version": "3.12.7"
  }
 },
 "nbformat": 4,
 "nbformat_minor": 2
}
